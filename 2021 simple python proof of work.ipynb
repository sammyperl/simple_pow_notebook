{
 "cells": [
  {
   "cell_type": "markdown",
   "metadata": {},
   "source": [
    "References\n",
    "- https://www.geeksforgeeks.org/create-simple-blockchain-using-python/"
   ]
  },
  {
   "cell_type": "code",
   "execution_count": 134,
   "metadata": {},
   "outputs": [],
   "source": [
    "import datetime\n",
    "import hashlib\n",
    "import json\n",
    "\n",
    "from flask import Flask, jsonify"
   ]
  },
  {
   "cell_type": "markdown",
   "metadata": {},
   "source": [
    "# Demonstration of use of a Hash Puzzle for Mining"
   ]
  },
  {
   "cell_type": "markdown",
   "metadata": {},
   "source": [
    "Blocks are mined by solving cryptographic puzzles. Originally, the use of the method used in bitcoin (hashcash) was proposed for imposing limits on messages or emails users could send as a way to reduce email or message spam. You can read the original paper here http://www.hashcash.org/. Hashcash was invented by Adam Back in 1997. Another team was also working on similar ideas around the same time."
   ]
  },
  {
   "cell_type": "code",
   "execution_count": 232,
   "metadata": {},
   "outputs": [],
   "source": [
    "# new_proof is a 'nonce' we will use to try to find an answer to the puzzle. \n",
    "# Note that there is more than one answer, \n",
    "# we just want to find any answer faster than anyone else\n",
    "\n",
    "nonce = 1 \n",
    "\n",
    "# this is the nonce that was used to solve the puzzle for the previous block. This is not necessary for our example.\n",
    "# but it is used in bitcoin to validate that miners are using a valid block from the chain to find the answer and\n",
    "# not just any arbitrary data. So the solution to the previous block is part of the input into the new potential solution\n",
    "\n",
    "previous_hash = 0\n",
    "\n",
    "# A flag to indicated if the puzzle is solved yet\n",
    "\n",
    "solved = False"
   ]
  },
  {
   "cell_type": "markdown",
   "metadata": {},
   "source": [
    "# Demonstration of Encoding"
   ]
  },
  {
   "cell_type": "code",
   "execution_count": 233,
   "metadata": {},
   "outputs": [
    {
     "ename": "TypeError",
     "evalue": "Unicode-objects must be encoded before hashing",
     "output_type": "error",
     "traceback": [
      "\u001b[0;31m---------------------------------------------------------------------------\u001b[0m",
      "\u001b[0;31mTypeError\u001b[0m                                 Traceback (most recent call last)",
      "\u001b[0;32m<ipython-input-233-7ed7df00d8ae>\u001b[0m in \u001b[0;36m<module>\u001b[0;34m\u001b[0m\n\u001b[0;32m----> 1\u001b[0;31m \u001b[0mhashlib\u001b[0m\u001b[0;34m.\u001b[0m\u001b[0msha256\u001b[0m\u001b[0;34m(\u001b[0m\u001b[0;34m'strings need to be encoded before hashing them'\u001b[0m\u001b[0;34m)\u001b[0m\u001b[0;34m.\u001b[0m\u001b[0mhexdigest\u001b[0m\u001b[0;34m(\u001b[0m\u001b[0;34m)\u001b[0m\u001b[0;34m\u001b[0m\u001b[0;34m\u001b[0m\u001b[0m\n\u001b[0m",
      "\u001b[0;31mTypeError\u001b[0m: Unicode-objects must be encoded before hashing"
     ]
    }
   ],
   "source": [
    "hashlib.sha256('strings need to be encoded before hashing them').hexdigest()"
   ]
  },
  {
   "cell_type": "code",
   "execution_count": 234,
   "metadata": {},
   "outputs": [
    {
     "data": {
      "text/plain": [
       "'ae1de85725c6f82d5ad8e130bf756fe8dd7f1024e837afc73aedf2e373caba92'"
      ]
     },
     "execution_count": 234,
     "metadata": {},
     "output_type": "execute_result"
    }
   ],
   "source": [
    "hashlib.sha256('strings need to be encoded before hashing them'.encode()).hexdigest()"
   ]
  },
  {
   "cell_type": "markdown",
   "metadata": {},
   "source": [
    "# Demonstration of single run through inside the loop:"
   ]
  },
  {
   "cell_type": "markdown",
   "metadata": {},
   "source": [
    "new_proof squared minus previous_proof squared. Then encode that and run it through the hash and hope it solves the puzzle "
   ]
  },
  {
   "cell_type": "code",
   "execution_count": 235,
   "metadata": {},
   "outputs": [
    {
     "data": {
      "text/plain": [
       "'6b86b273ff34fce19d6b804eff5a3f5747ada4eaa22f1d49c01e52ddb7875b4b'"
      ]
     },
     "execution_count": 235,
     "metadata": {},
     "output_type": "execute_result"
    }
   ],
   "source": [
    "hashlib.sha256(str(nonce - previous_hash).encode()).hexdigest()"
   ]
  },
  {
   "cell_type": "markdown",
   "metadata": {},
   "source": [
    "The solution to the puzzle is a hash (in hexadecimal) that starts with a whole bunch of zeros.    \n",
    "\n",
    "This hash does not begin with a bunch of zeros, so we need to calculate a new has one.\n",
    "\n",
    "Here, we choose to increment the counter, but miners are allowed to try anything. Most just use a counter. The hashcash puzzle is deliberately designed to be resistent to algorithmic speed ups or \"trapdoors\". That means, brute force methods should be the only way to solve it.\n",
    "\n",
    "If you want to see more about hashcash and bitcoin in particular, visit https://nakamoto.com/hashcash/"
   ]
  },
  {
   "cell_type": "code",
   "execution_count": 276,
   "metadata": {},
   "outputs": [
    {
     "data": {
      "text/plain": [
       "'f5c34d912af814c33b8f5cf1420bcba1be9a3e5d83cebb146200cdbf2ec7a76e'"
      ]
     },
     "execution_count": 276,
     "metadata": {},
     "output_type": "execute_result"
    }
   ],
   "source": [
    "# adding values to the counter (nonce) changes the resulting hash output\n",
    "# note that you can ignore previous_hash here. We have it set to 0. It is normally a way to ensure other miners can validate a correct solution\n",
    "nonce += 1\n",
    "hashlib.sha256(str(nonce - previous_hash).encode()).hexdigest()"
   ]
  },
  {
   "cell_type": "code",
   "execution_count": 277,
   "metadata": {},
   "outputs": [
    {
     "name": "stdout",
     "output_type": "stream",
     "text": [
      "hash found:  000b07fd81c1770b514fb2998527b682c4600e0e76868011bae89a265505f652\n"
     ]
    }
   ],
   "source": [
    "# if you want to see all the hash results that failed so far, you can uncomment out the print statement inside the while loop \n",
    "while solved is False:\n",
    "    hash_operation = hashlib.sha256(str(nonce - previous_hash).encode()).hexdigest()\n",
    "    #print(hash_operation)\n",
    "    if hash_operation[:3] == '000':\n",
    "        solved = True\n",
    "        print(\"hash found: \", hash_operation)\n",
    "    else:\n",
    "        nonce+=1"
   ]
  },
  {
   "cell_type": "code",
   "execution_count": 278,
   "metadata": {},
   "outputs": [
    {
     "name": "stdout",
     "output_type": "stream",
     "text": [
      "counter: 12823 result 000b07fd81c1770b514fb2998527b682c4600e0e76868011bae89a265505f652\n"
     ]
    }
   ],
   "source": [
    "print('counter:',nonce ,'result', hash_operation)"
   ]
  },
  {
   "cell_type": "code",
   "execution_count": 279,
   "metadata": {},
   "outputs": [
    {
     "name": "stdout",
     "output_type": "stream",
     "text": [
      "000\n"
     ]
    }
   ],
   "source": [
    "print(hash_operation[:3])"
   ]
  },
  {
   "cell_type": "markdown",
   "metadata": {},
   "source": [
    "Note: if you want to run it again, you need to reset the \"solved\" variable to False."
   ]
  },
  {
   "cell_type": "code",
   "execution_count": 280,
   "metadata": {},
   "outputs": [],
   "source": [
    "solved = False\n",
    "nonce += 1"
   ]
  },
  {
   "cell_type": "markdown",
   "metadata": {},
   "source": [
    "Now go back up to the loop at run it again :) you will find a new nonce"
   ]
  }
 ],
 "metadata": {
  "kernelspec": {
   "display_name": "Python 3",
   "language": "python",
   "name": "python3"
  },
  "language_info": {
   "codemirror_mode": {
    "name": "ipython",
    "version": 3
   },
   "file_extension": ".py",
   "mimetype": "text/x-python",
   "name": "python",
   "nbconvert_exporter": "python",
   "pygments_lexer": "ipython3",
   "version": "3.7.4"
  }
 },
 "nbformat": 4,
 "nbformat_minor": 2
}
