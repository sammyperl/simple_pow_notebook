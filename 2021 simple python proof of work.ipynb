{
 "cells": [
  {
   "cell_type": "markdown",
   "metadata": {},
   "source": [
    "References\n",
    "- https://www.geeksforgeeks.org/create-simple-blockchain-using-python/"
   ]
  },
  {
   "cell_type": "code",
   "execution_count": 1,
   "metadata": {},
   "outputs": [],
   "source": [
    "import datetime\n",
    "import hashlib"
   ]
  },
  {
   "cell_type": "markdown",
   "metadata": {},
   "source": [
    "# Demonstration of use of a Hash Puzzle for Mining"
   ]
  },
  {
   "cell_type": "markdown",
   "metadata": {},
   "source": [
    "Blocks are mined by solving cryptographic puzzles. Originally, the use of the method used in bitcoin (hashcash) was proposed for imposing limits on messages or emails users could send as a way to reduce email or message spam. You can read the original paper here http://www.hashcash.org/. Hashcash was invented by Adam Back in 1997. Another team was also working on similar ideas around the same time."
   ]
  },
  {
   "cell_type": "markdown",
   "metadata": {},
   "source": [
    "# Hashlib Explanation\n",
    "\n",
    "\n",
    "Hashlib is a python library for performing different hashing operations. Techincally it is a 'common interface' to different secure hash and message digest functions. When you run a message through a hash function, the output of this operation is called a 'message digest' or 'Hash digest'\n",
    "\n",
    "Hashlib requires you to 'encode' objects before hashing them. \"Unicode-objects must be encoded before hashing\" (see more on unicode in the cell below)"
   ]
  },
  {
   "cell_type": "code",
   "execution_count": 24,
   "metadata": {
    "scrolled": true
   },
   "outputs": [
    {
     "name": "stdout",
     "output_type": "stream",
     "text": [
      "b'read this'\n"
     ]
    }
   ],
   "source": [
    "# Encoding (in UTF-8) to prepare for using hashlib - See next section for a longer explanation of encoding.\n",
    "\n",
    "first_input  = 'We are going to hash this string but first we need to encode it in UTF-8'\n",
    "first_input = first_input.encode()\n",
    "\n",
    "print(x)\n",
    "\n",
    "# The b in front of the string indicates that this string is encoded"
   ]
  },
  {
   "cell_type": "code",
   "execution_count": 25,
   "metadata": {},
   "outputs": [
    {
     "name": "stdout",
     "output_type": "stream",
     "text": [
      "<sha256 _hashlib.HASH object @ 0x7f8148b235b0>\n"
     ]
    }
   ],
   "source": [
    "#now we can use hashlib on the encoded string to perform the HASH function. This results in a hashlib object.\n",
    "y = hashlib.sha256(x)\n",
    "print(y)"
   ]
  },
  {
   "cell_type": "code",
   "execution_count": 26,
   "metadata": {},
   "outputs": [
    {
     "name": "stdout",
     "output_type": "stream",
     "text": [
      "['__class__', '__delattr__', '__dir__', '__doc__', '__eq__', '__format__', '__ge__', '__getattribute__', '__gt__', '__hash__', '__init__', '__init_subclass__', '__le__', '__lt__', '__module__', '__ne__', '__new__', '__reduce__', '__reduce_ex__', '__repr__', '__setattr__', '__sizeof__', '__str__', '__subclasshook__', 'block_size', 'copy', 'digest', 'digest_size', 'hexdigest', 'name', 'update']\n"
     ]
    }
   ],
   "source": [
    "# the hashlib object has many Attributes. It also includes block_size, copy, digest, digest_size, name, update\n",
    "a = dir(y)\n",
    "print(a)"
   ]
  },
  {
   "cell_type": "code",
   "execution_count": 42,
   "metadata": {},
   "outputs": [
    {
     "name": "stdout",
     "output_type": "stream",
     "text": [
      "32\n"
     ]
    }
   ],
   "source": [
    "print(y.digest_size) # the size in characters"
   ]
  },
  {
   "cell_type": "code",
   "execution_count": 44,
   "metadata": {},
   "outputs": [
    {
     "data": {
      "text/plain": [
       "'f23321d181a75c36f90b64eeddb424beefaaa052a5c4a911aeccb56d77d6df7a'"
      ]
     },
     "execution_count": 44,
     "metadata": {},
     "output_type": "execute_result"
    }
   ],
   "source": [
    "# The attribute we are often interested in is hash 'hexdigest' (output). It is expressed as a hexadecimal number (32 characters) \n",
    "y.hexdigest()"
   ]
  },
  {
   "cell_type": "code",
   "execution_count": 45,
   "metadata": {},
   "outputs": [
    {
     "data": {
      "text/plain": [
       "'0b1111001000110011001000011101000110000001101001110101110000110110111110010000101101100100111011101101110110110100001001001011111011101111101010101010000001010010101001011100010010101001000100011010111011001100101101010110110101110111110101101101111101111010'"
      ]
     },
     "execution_count": 45,
     "metadata": {},
     "output_type": "execute_result"
    }
   ],
   "source": [
    "# We can also convert this number into its binary representation and print it\n",
    "bin(int(y.hexdigest(), 16))"
   ]
  },
  {
   "cell_type": "markdown",
   "metadata": {},
   "source": [
    "## Unicode and Encodings\n",
    "the .encode() function is a string function in python\n",
    "with no arguements, its default is to return a UTF-8 encoding of the string input.    \n",
    "\n",
    "Here is a link to [a longer tutorial on the python string encode function](https://www.programiz.com/python-programming/methods/string/encode)\n",
    "\n",
    "A discussion of Unicode is out of scope, but here is a link to a [longer explanation of Unicode if you have never encountered it before]()"
   ]
  },
  {
   "cell_type": "code",
   "execution_count": 46,
   "metadata": {},
   "outputs": [
    {
     "ename": "TypeError",
     "evalue": "Unicode-objects must be encoded before hashing",
     "output_type": "error",
     "traceback": [
      "\u001b[0;31m---------------------------------------------------------------------------\u001b[0m",
      "\u001b[0;31mTypeError\u001b[0m                                 Traceback (most recent call last)",
      "\u001b[0;32m/var/folders/p3/3j5l1lks7_3fccf976w53hj00000gq/T/ipykernel_18479/1954886042.py\u001b[0m in \u001b[0;36m<module>\u001b[0;34m\u001b[0m\n\u001b[1;32m      1\u001b[0m \u001b[0;31m# running this cell will throw an error. it is missing .encode()\u001b[0m\u001b[0;34m\u001b[0m\u001b[0;34m\u001b[0m\u001b[0m\n\u001b[1;32m      2\u001b[0m \u001b[0;31m# A unicode object must be encoded before it can be run through the hash function.\u001b[0m\u001b[0;34m\u001b[0m\u001b[0;34m\u001b[0m\u001b[0m\n\u001b[0;32m----> 3\u001b[0;31m \u001b[0mhashlib\u001b[0m\u001b[0;34m.\u001b[0m\u001b[0msha256\u001b[0m\u001b[0;34m(\u001b[0m\u001b[0;34m'strings need to be encoded before hashing them'\u001b[0m\u001b[0;34m)\u001b[0m\u001b[0;34m.\u001b[0m\u001b[0mhexdigest\u001b[0m\u001b[0;34m(\u001b[0m\u001b[0;34m)\u001b[0m\u001b[0;34m\u001b[0m\u001b[0;34m\u001b[0m\u001b[0m\n\u001b[0m",
      "\u001b[0;31mTypeError\u001b[0m: Unicode-objects must be encoded before hashing"
     ]
    }
   ],
   "source": [
    "# running this cell will throw an error. it is missing .encode()\n",
    "# A unicode object must be encoded before it can be run through the hash function.\n",
    "hashlib.sha256('strings need to be encoded before hashing them').hexdigest()"
   ]
  },
  {
   "cell_type": "code",
   "execution_count": 54,
   "metadata": {},
   "outputs": [
    {
     "data": {
      "text/plain": [
       "<sha256 _hashlib.HASH object @ 0x7f8148b23dd0>"
      ]
     },
     "execution_count": 54,
     "metadata": {},
     "output_type": "execute_result"
    }
   ],
   "source": [
    "#running a hashlib hash function (in this case sha256) on a properly encoded string will return a hashlib object. \n",
    "hashlib.sha256('Lets try again but this time we will encode the string'.encode())"
   ]
  },
  {
   "cell_type": "code",
   "execution_count": 55,
   "metadata": {},
   "outputs": [
    {
     "data": {
      "text/plain": [
       "'9a70de49c3142e7e6f0169c9650fa7290fa748ad27a4085ab70f9e99b41d38fe'"
      ]
     },
     "execution_count": 55,
     "metadata": {},
     "output_type": "execute_result"
    }
   ],
   "source": [
    "# We can use the notebook to inspect the object docstring, methods and attributes\n",
    "h = hashlib.sha256('Lets try again but this time we will encode the string'.encode())\n",
    "\n",
    "# lets print the hash digest as a string of hexadecimal digits\n",
    "h.hexdigest() "
   ]
  },
  {
   "cell_type": "code",
   "execution_count": 56,
   "metadata": {},
   "outputs": [],
   "source": [
    "# Actually, h contains a LOT more data as well. It is actually a hashlib object. Lets inspect some other fields in the object\n",
    "# ?? in jupyter notebook can inspect the object docstring, methods and attributes\n",
    "??h"
   ]
  },
  {
   "cell_type": "markdown",
   "metadata": {},
   "source": [
    "Object type: HASH\n",
    "\n",
    "Methods:\n",
    "\n",
    "- update() -- updates the current digest with an additional string\n",
    "- digest() -- return the current digest value\n",
    "- hexdigest() -- return the current digest as a string of hexadecimal digits\n",
    "- copy() -- return a copy of the current hash object\n",
    "\n",
    "Attributes:\n",
    "\n",
    "- name -- the hash algorithm being used by this object\n",
    "- digest_size -- number of bytes in this hashes output"
   ]
  },
  {
   "cell_type": "code",
   "execution_count": 34,
   "metadata": {},
   "outputs": [
    {
     "data": {
      "text/plain": [
       "b\"\\x9ap\\xdeI\\xc3\\x14.~o\\x01i\\xc9e\\x0f\\xa7)\\x0f\\xa7H\\xad'\\xa4\\x08Z\\xb7\\x0f\\x9e\\x99\\xb4\\x1d8\\xfe\""
      ]
     },
     "execution_count": 34,
     "metadata": {},
     "output_type": "execute_result"
    }
   ],
   "source": [
    "h.digest() # the current digest value (encoded by default in UTF-8)"
   ]
  },
  {
   "cell_type": "code",
   "execution_count": 35,
   "metadata": {},
   "outputs": [
    {
     "data": {
      "text/plain": [
       "'9a70de49c3142e7e6f0169c9650fa7290fa748ad27a4085ab70f9e99b41d38fe'"
      ]
     },
     "execution_count": 35,
     "metadata": {},
     "output_type": "execute_result"
    }
   ],
   "source": [
    "h.hexdigest() # the current digest as a string of hexadecimal digits"
   ]
  },
  {
   "cell_type": "code",
   "execution_count": 36,
   "metadata": {},
   "outputs": [
    {
     "data": {
      "text/plain": [
       "'sha256'"
      ]
     },
     "execution_count": 36,
     "metadata": {},
     "output_type": "execute_result"
    }
   ],
   "source": [
    "h.name # the name of the hash function used to create the hash object"
   ]
  },
  {
   "cell_type": "code",
   "execution_count": 37,
   "metadata": {},
   "outputs": [
    {
     "data": {
      "text/plain": [
       "32"
      ]
     },
     "execution_count": 37,
     "metadata": {},
     "output_type": "execute_result"
    }
   ],
   "source": [
    "h.digest_size # all sha256 digests will be size 32 characters unless you change the defaults"
   ]
  },
  {
   "cell_type": "code",
   "execution_count": 57,
   "metadata": {},
   "outputs": [
    {
     "data": {
      "text/plain": [
       "'ae1de85725c6f82d5ad8e130bf756fe8dd7f1024e837afc73aedf2e373caba92'"
      ]
     },
     "execution_count": 57,
     "metadata": {},
     "output_type": "execute_result"
    }
   ],
   "source": [
    "# we can run the hash function on an encoded string and get its output in hex format all in one line\n",
    "hashlib.sha256('strings need to be encoded before hashing them'.encode()).hexdigest()"
   ]
  },
  {
   "cell_type": "markdown",
   "metadata": {},
   "source": [
    "# Demonstration of single run through inside the Proof of Work loop:"
   ]
  },
  {
   "cell_type": "code",
   "execution_count": 58,
   "metadata": {},
   "outputs": [],
   "source": [
    "# nonce we will use to try to find an answer to the puzzle. \n",
    "# Note that there is more than one answer, \n",
    "# we just want to find any answer faster than anyone else\n",
    "\n",
    "nonce = 1 \n",
    "\n",
    "# this is the nonce that was used to solve the puzzle for the previous block. The previous hash is used in bitcoin \n",
    "# to validate that miners are using a valid block from the chain to find the answer and\n",
    "# not just any arbitrary data. So the solution to the previous block is part of the input into the new potential solution\n",
    "\n",
    "previous_hash = 0\n",
    "\n",
    "# A flag to indicated if the puzzle is solved yet\n",
    "\n",
    "solved = False"
   ]
  },
  {
   "cell_type": "markdown",
   "metadata": {},
   "source": [
    "new_proof squared minus previous_proof squared. Then encode that and run it through the hash and hope it solves the puzzle "
   ]
  },
  {
   "cell_type": "code",
   "execution_count": 60,
   "metadata": {},
   "outputs": [
    {
     "name": "stdout",
     "output_type": "stream",
     "text": [
      "1\n"
     ]
    }
   ],
   "source": [
    "print(nonce - previous_hash)"
   ]
  },
  {
   "cell_type": "code",
   "execution_count": 62,
   "metadata": {},
   "outputs": [
    {
     "data": {
      "text/plain": [
       "'6b86b273ff34fce19d6b804eff5a3f5747ada4eaa22f1d49c01e52ddb7875b4b'"
      ]
     },
     "execution_count": 62,
     "metadata": {},
     "output_type": "execute_result"
    }
   ],
   "source": [
    "hashlib.sha256(str(nonce - previous_hash).encode()).hexdigest() # we just encoded and hashed the input \"1\""
   ]
  },
  {
   "cell_type": "markdown",
   "metadata": {},
   "source": [
    "The solution to the \"puzzle\" in Bitcoin is a hash (in hexadecimal) that starts with a whole bunch of zeros.    \n",
    "\n",
    "**This hash does not begin with a bunch of zeros, so we need to calculate a new has one.**\n",
    "\n",
    "Here, we choose to increment the counter, but miners are allowed to try anything. Most just use a counter. The hashcash puzzle is deliberately designed to be resistent to algorithmic speed ups or \"trapdoors\". That means, brute force methods should be the only way to solve it.\n",
    "\n",
    "If you want to see more about hashcash and bitcoin in particular, visit https://nakamoto.com/hashcash/"
   ]
  },
  {
   "cell_type": "code",
   "execution_count": 69,
   "metadata": {},
   "outputs": [
    {
     "data": {
      "text/plain": [
       "'2c624232cdd221771294dfbb310aca000a0df6ac8b66b696d90ef06fdefb64a3'"
      ]
     },
     "execution_count": 69,
     "metadata": {},
     "output_type": "execute_result"
    }
   ],
   "source": [
    "# adding values to the counter (nonce) changes the resulting hash digest (output)\n",
    "# note that you can ignore previous_hash here. We have it set to 0. \n",
    "# It is normally a way to ensure other miners can validate a correct solution\n",
    "nonce += 1\n",
    "hashlib.sha256(str(nonce - previous_hash).encode()).hexdigest()"
   ]
  },
  {
   "cell_type": "code",
   "execution_count": 78,
   "metadata": {},
   "outputs": [
    {
     "data": {
      "text/plain": [
       "'000'"
      ]
     },
     "execution_count": 78,
     "metadata": {},
     "output_type": "execute_result"
    }
   ],
   "source": [
    "# we set the difficulty to 3. This means the hash digest must start with at least 3 zeroes.\n",
    "\n",
    "difficulty = 3\n",
    "''.zfill(difficulty)"
   ]
  },
  {
   "cell_type": "code",
   "execution_count": 92,
   "metadata": {},
   "outputs": [],
   "source": [
    "# if you don't want to see all the hash results that failed so far then\n",
    "# comment out the print statement inside the while loop \n",
    "while solved is False:\n",
    "    hash_operation = hashlib.sha256(str(nonce - previous_hash).encode()).hexdigest()\n",
    "    print(hash_operation)\n",
    "    if hash_operation[:difficulty] == ''.zfill(difficulty): #zfill pads a string with leading '0's\n",
    "        solved = True\n",
    "        print(\"hash found: \", hash_operation)\n",
    "    else:\n",
    "        nonce+=1"
   ]
  },
  {
   "cell_type": "markdown",
   "metadata": {},
   "source": [
    "The nonce value is the input which solved the puzzle.    \n",
    "The hash_operation is the output of the puzzle. If the output has 3 leading zeros then the input is a valid solution !\n",
    "\n",
    "**In the above cell, SCROLL DOWN to the BOTTOM to see the \"hash found\" value that has 3 or more leading zero's**"
   ]
  },
  {
   "cell_type": "code",
   "execution_count": 93,
   "metadata": {},
   "outputs": [
    {
     "name": "stdout",
     "output_type": "stream",
     "text": [
      "counter: 3633 result 00039a15178b11924de22fd1a02f6efb00d8af33c171a6b67614871e8d6012da\n"
     ]
    }
   ],
   "source": [
    "print('counter:',nonce ,'result', hash_operation)"
   ]
  },
  {
   "cell_type": "code",
   "execution_count": 94,
   "metadata": {},
   "outputs": [
    {
     "name": "stdout",
     "output_type": "stream",
     "text": [
      "000\n"
     ]
    }
   ],
   "source": [
    "# we validate that this is a solution by checking the first 3 characters of the hash output\n",
    "print(hash_operation[:difficulty])"
   ]
  },
  {
   "cell_type": "markdown",
   "metadata": {},
   "source": [
    "Note: if you want to run it again, you need to reset the \"solved\" variable to False."
   ]
  },
  {
   "cell_type": "code",
   "execution_count": 98,
   "metadata": {},
   "outputs": [],
   "source": [
    "solved = False\n",
    "nonce += 1"
   ]
  },
  {
   "cell_type": "markdown",
   "metadata": {},
   "source": [
    "Now go back up to the loop at run it again :) you will now need to find a new nonce (Solution). This is because we did not reset the nonce back to 0. So we will fine a larger counter that also 'solves' the puzzle.\n",
    "\n",
    "Remember, there is more thank one solution to the puzzle. This means, multiple miners could find different solutions that are both correct. So how does the network know which one to accept? the answer is **Consensus Rules** which we will cover next. \n"
   ]
  },
  {
   "cell_type": "markdown",
   "metadata": {},
   "source": [
    "## Other settings you can play with\n",
    "You can also adjust the difficulty of the puzzle by adding more leading 0. Bitcoin is currently at 25+ which would take thousands of years on a laptop to solve. Note that 4 and 5 can take less that seconds to solve but 6 takes minutes"
   ]
  },
  {
   "cell_type": "code",
   "execution_count": 99,
   "metadata": {},
   "outputs": [],
   "source": [
    "difficulty=4\n",
    "while solved is False:\n",
    "    hash_operation = hashlib.sha256(str(nonce - previous_hash).encode()).hexdigest()\n",
    "    if hash_operation[:difficulty] == ''.zfill(difficulty):\n",
    "        solved = True\n",
    "    else:\n",
    "        nonce+=1"
   ]
  },
  {
   "cell_type": "code",
   "execution_count": 100,
   "metadata": {
    "scrolled": true
   },
   "outputs": [
    {
     "name": "stdout",
     "output_type": "stream",
     "text": [
      "172608 0000f727854b50bb95c054b39c1fe5c92e5ebcfa4bcb5dc279f56aa96a365e5a\n"
     ]
    }
   ],
   "source": [
    "print(nonce, hash_operation)"
   ]
  },
  {
   "cell_type": "code",
   "execution_count": 101,
   "metadata": {},
   "outputs": [],
   "source": [
    "solved = False\n",
    "nonce += 1"
   ]
  },
  {
   "cell_type": "code",
   "execution_count": 102,
   "metadata": {},
   "outputs": [],
   "source": [
    "difficulty=5\n",
    "while solved is False:\n",
    "    hash_operation = hashlib.sha256(str(nonce - previous_hash).encode()).hexdigest()\n",
    "    if hash_operation[:difficulty] == ''.zfill(difficulty):\n",
    "        solved = True\n",
    "    else:\n",
    "        nonce+=1"
   ]
  },
  {
   "cell_type": "code",
   "execution_count": 103,
   "metadata": {},
   "outputs": [
    {
     "name": "stdout",
     "output_type": "stream",
     "text": [
      "596138 00000691457f4f0ce13e187b9ab4fda6d42c8647752909b8f71f9dbd8f6bd4ab\n"
     ]
    }
   ],
   "source": [
    "print(nonce, hash_operation)"
   ]
  },
  {
   "cell_type": "code",
   "execution_count": 104,
   "metadata": {},
   "outputs": [],
   "source": [
    "solved = False\n",
    "nonce += 1"
   ]
  },
  {
   "cell_type": "code",
   "execution_count": 105,
   "metadata": {},
   "outputs": [],
   "source": [
    "# if you set it to 6 you might end up waiting 10+ minutes ... Beyond 6, might be hours..."
   ]
  },
  {
   "cell_type": "code",
   "execution_count": null,
   "metadata": {},
   "outputs": [],
   "source": []
  }
 ],
 "metadata": {
  "interpreter": {
   "hash": "bcdbf2365d766fcff3199ec7961d18b693d3427dc1695fd14829c529b8f13e87"
  },
  "kernelspec": {
   "display_name": "Python 3 (ipykernel)",
   "language": "python",
   "name": "python3"
  },
  "language_info": {
   "codemirror_mode": {
    "name": "ipython",
    "version": 3
   },
   "file_extension": ".py",
   "mimetype": "text/x-python",
   "name": "python",
   "nbconvert_exporter": "python",
   "pygments_lexer": "ipython3",
   "version": "3.9.7"
  }
 },
 "nbformat": 4,
 "nbformat_minor": 2
}
